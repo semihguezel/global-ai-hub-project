{
 "cells": [
  {
   "cell_type": "code",
   "execution_count": 1,
   "id": "a685e16d",
   "metadata": {},
   "outputs": [],
   "source": [
    "import tensorflow as tf\n",
    "import numpy as np\n",
    "import matplotlib.pyplot as plt"
   ]
  },
  {
   "cell_type": "code",
   "execution_count": 2,
   "id": "a39a063f",
   "metadata": {},
   "outputs": [],
   "source": [
    "# Load saved train, validation, test datasets\n",
    "X_train = np.load(\"C:/Users/pasha/X_train.npy\")\n",
    "y_train = np.load(\"C:/Users/pasha/y_train.npy\")\n",
    "X_val = np.load(\"C:/Users/pasha/X_val.npy\")\n",
    "y_val = np.load(\"C:/Users/pasha/y_val.npy\")\n",
    "X_test = np.load(\"C:/Users/pasha/X_test.npy\")\n",
    "y_test = np.load(\"C:/Users/pasha/y_test.npy\")"
   ]
  },
  {
   "cell_type": "code",
   "execution_count": 3,
   "id": "6f137b0a",
   "metadata": {},
   "outputs": [
    {
     "name": "stdout",
     "output_type": "stream",
     "text": [
      "Number of train samples :  6112\n",
      "Number of validation samples : 1310\n",
      "Number of test samples : 1310\n"
     ]
    }
   ],
   "source": [
    "print(\"Number of train samples : \", X_train.shape[0])\n",
    "print(\"Number of validation samples :\", X_val.shape[0])\n",
    "print(\"Number of test samples :\", X_test.shape[0])"
   ]
  },
  {
   "cell_type": "markdown",
   "id": "0809b52a",
   "metadata": {},
   "source": [
    "# Training Model\n",
    "In this part, we will use a simple a CNN(Convolutional Neural Network) model. Our CNN model consists of one input layer, 2 convolutional layer, 2 dense layer and 1 output layer.<br>\n",
    "Steps for creating CNN;\n",
    "- Define a input layer which has a similiar shape with the images. Choose the best activation function for the problem\n",
    "- Set padding same for saving details at the border of images.\n",
    "- Add pooling layer for saving only useful information that way computation power can be reduced. Accuracy will increase since model trains with only useful information.\n",
    "- Add dropout layer to prevent overfitting\n",
    "- Add convolutional layers and padding.\n",
    "- Flatten these layers into 1 dimension.\n",
    "- Add hidden dense layers so that the model can learn.\n",
    "- Add a output layer with a shape of number of categories to be classifed. Choose the best activation function for the problem.\n",
    "- Compile the model with an optimizer to deal with the overfitting issue. Choose a loss function appropriate to the problem. (We used sparse categorical crossentropy because our classes are mutually exclusive (e.g. when each sample belongs exactly to one class)\n",
    "\n",
    "Afterwards we visualize our performance of the model, made some prediction in order to find whether our model is trained well or not."
   ]
  },
  {
   "cell_type": "code",
   "execution_count": 4,
   "id": "b317044c",
   "metadata": {},
   "outputs": [],
   "source": [
    "model = tf.keras.Sequential()"
   ]
  },
  {
   "cell_type": "code",
   "execution_count": 5,
   "id": "f6d5336f",
   "metadata": {},
   "outputs": [],
   "source": [
    "# Add a convolution and max pooling layer\n",
    "model.add(tf.keras.layers.Conv2D(32,\n",
    "                                 kernel_size=(3,3),\n",
    "                                 strides=(1,1),\n",
    "                                 padding=\"same\",\n",
    "                                 activation=\"relu\",\n",
    "                                 input_shape=(32,32,1)))\n",
    "model.add(tf.keras.layers.MaxPooling2D(2,2))\n",
    "model.add(tf.keras.layers.Dropout(0.3))"
   ]
  },
  {
   "cell_type": "code",
   "execution_count": 6,
   "id": "eb4b8240",
   "metadata": {},
   "outputs": [],
   "source": [
    "# Add more convolution and max pooling layers\n",
    "model.add(tf.keras.layers.Conv2D(64,\n",
    "                                 kernel_size=(3,3),\n",
    "                                 strides=(1,1),\n",
    "                                 padding=\"same\",\n",
    "                                 activation=\"relu\"))\n",
    "model.add(tf.keras.layers.MaxPooling2D(2,2))\n",
    "model.add(tf.keras.layers.Dropout(0.3))\n",
    "model.add(tf.keras.layers.Conv2D(64,\n",
    "                                 kernel_size=(3,3),\n",
    "                                 strides=(1,1),\n",
    "                                 padding=\"same\",\n",
    "                                 activation=\"relu\"))\n",
    "model.add(tf.keras.layers.MaxPooling2D(2,2))\n",
    "model.add(tf.keras.layers.Dropout(0.3))"
   ]
  },
  {
   "cell_type": "code",
   "execution_count": 7,
   "id": "a3fe2ca5",
   "metadata": {},
   "outputs": [],
   "source": [
    "# Flatten the convolution layer\n",
    "model.add(tf.keras.layers.Flatten())"
   ]
  },
  {
   "cell_type": "code",
   "execution_count": 8,
   "id": "67461d22",
   "metadata": {},
   "outputs": [],
   "source": [
    "# Add the dense layer and dropout layer\n",
    "model.add(tf.keras.layers.Dense(256, activation=\"relu\"))\n",
    "model.add(tf.keras.layers.Dropout(0.5))\n",
    "model.add(tf.keras.layers.Dense(256, activation=\"relu\"))\n",
    "model.add(tf.keras.layers.Dropout(0.5))"
   ]
  },
  {
   "cell_type": "code",
   "execution_count": 9,
   "id": "44b31274",
   "metadata": {},
   "outputs": [],
   "source": [
    "# Add the output layer\n",
    "model.add(tf.keras.layers.Dense(10, activation=\"softmax\")) #For multiclass classification problems softmax activation function were used in output layer"
   ]
  },
  {
   "cell_type": "code",
   "execution_count": 10,
   "id": "66b716ca",
   "metadata": {},
   "outputs": [],
   "source": [
    "# Compile the model\n",
    "model.compile(optimizer=\"adam\",\n",
    "              loss=\"sparse_categorical_crossentropy\",\n",
    "              metrics=[\"accuracy\"]) #For multiclass classification problems sparse_categorical_crossentropy were used for calculating loss"
   ]
  },
  {
   "cell_type": "code",
   "execution_count": 11,
   "id": "6fa787ed",
   "metadata": {},
   "outputs": [],
   "source": [
    "callback = tf.keras.callbacks.EarlyStopping(monitor='val_loss', patience=5)"
   ]
  },
  {
   "cell_type": "code",
   "execution_count": 12,
   "id": "9cdf2bed",
   "metadata": {
    "scrolled": false
   },
   "outputs": [
    {
     "name": "stdout",
     "output_type": "stream",
     "text": [
      "Epoch 1/50\n",
      "96/96 [==============================] - 5s 47ms/step - loss: 2.0040 - accuracy: 0.2387 - val_loss: 1.7051 - val_accuracy: 0.3832\n",
      "Epoch 2/50\n",
      "96/96 [==============================] - 4s 45ms/step - loss: 1.6114 - accuracy: 0.4072 - val_loss: 1.4271 - val_accuracy: 0.5137\n",
      "Epoch 3/50\n",
      "96/96 [==============================] - 4s 46ms/step - loss: 1.3728 - accuracy: 0.5077 - val_loss: 1.2016 - val_accuracy: 0.5786\n",
      "Epoch 4/50\n",
      "96/96 [==============================] - 4s 46ms/step - loss: 1.2294 - accuracy: 0.5623 - val_loss: 1.0514 - val_accuracy: 0.6321\n",
      "Epoch 5/50\n",
      "96/96 [==============================] - 4s 46ms/step - loss: 1.1360 - accuracy: 0.6023 - val_loss: 0.9875 - val_accuracy: 0.6695\n",
      "Epoch 6/50\n",
      "96/96 [==============================] - 4s 45ms/step - loss: 1.0439 - accuracy: 0.6381 - val_loss: 0.8828 - val_accuracy: 0.6947\n",
      "Epoch 7/50\n",
      "96/96 [==============================] - 4s 46ms/step - loss: 0.9743 - accuracy: 0.6672 - val_loss: 0.8870 - val_accuracy: 0.6939\n",
      "Epoch 8/50\n",
      "96/96 [==============================] - 4s 46ms/step - loss: 0.9197 - accuracy: 0.6860 - val_loss: 0.7785 - val_accuracy: 0.7458\n",
      "Epoch 9/50\n",
      "96/96 [==============================] - 4s 45ms/step - loss: 0.8583 - accuracy: 0.7104 - val_loss: 0.7812 - val_accuracy: 0.7389\n",
      "Epoch 10/50\n",
      "96/96 [==============================] - 5s 51ms/step - loss: 0.8173 - accuracy: 0.7263 - val_loss: 0.7155 - val_accuracy: 0.7672\n",
      "Epoch 11/50\n",
      "96/96 [==============================] - 5s 50ms/step - loss: 0.7824 - accuracy: 0.7415 - val_loss: 0.6751 - val_accuracy: 0.7641\n",
      "Epoch 12/50\n",
      "96/96 [==============================] - 5s 47ms/step - loss: 0.7537 - accuracy: 0.7454 - val_loss: 0.6624 - val_accuracy: 0.7771\n",
      "Epoch 13/50\n",
      "96/96 [==============================] - 5s 48ms/step - loss: 0.7172 - accuracy: 0.7605 - val_loss: 0.5893 - val_accuracy: 0.8107\n",
      "Epoch 14/50\n",
      "96/96 [==============================] - 4s 42ms/step - loss: 0.6836 - accuracy: 0.7793 - val_loss: 0.6062 - val_accuracy: 0.7954\n",
      "Epoch 15/50\n",
      "96/96 [==============================] - 4s 44ms/step - loss: 0.6512 - accuracy: 0.7796 - val_loss: 0.5721 - val_accuracy: 0.8221\n",
      "Epoch 16/50\n",
      "96/96 [==============================] - 4s 45ms/step - loss: 0.6064 - accuracy: 0.7950 - val_loss: 0.5771 - val_accuracy: 0.8038\n",
      "Epoch 17/50\n",
      "96/96 [==============================] - 4s 45ms/step - loss: 0.6038 - accuracy: 0.7952 - val_loss: 0.5321 - val_accuracy: 0.8321\n",
      "Epoch 18/50\n",
      "96/96 [==============================] - 4s 45ms/step - loss: 0.5876 - accuracy: 0.8043 - val_loss: 0.5773 - val_accuracy: 0.8122\n",
      "Epoch 19/50\n",
      "96/96 [==============================] - 4s 47ms/step - loss: 0.5702 - accuracy: 0.8115 - val_loss: 0.5070 - val_accuracy: 0.8382\n",
      "Epoch 20/50\n",
      "96/96 [==============================] - 4s 46ms/step - loss: 0.5385 - accuracy: 0.8190 - val_loss: 0.5023 - val_accuracy: 0.8389\n",
      "Epoch 21/50\n",
      "96/96 [==============================] - 4s 43ms/step - loss: 0.5150 - accuracy: 0.8246 - val_loss: 0.4869 - val_accuracy: 0.8397\n",
      "Epoch 22/50\n",
      "96/96 [==============================] - 4s 46ms/step - loss: 0.5160 - accuracy: 0.8318 - val_loss: 0.4789 - val_accuracy: 0.8397\n",
      "Epoch 23/50\n",
      "96/96 [==============================] - 4s 47ms/step - loss: 0.5041 - accuracy: 0.8308 - val_loss: 0.4931 - val_accuracy: 0.8435\n",
      "Epoch 24/50\n",
      "96/96 [==============================] - 4s 46ms/step - loss: 0.4646 - accuracy: 0.8467 - val_loss: 0.4678 - val_accuracy: 0.8489\n",
      "Epoch 25/50\n",
      "96/96 [==============================] - 4s 43ms/step - loss: 0.4721 - accuracy: 0.8361 - val_loss: 0.4416 - val_accuracy: 0.8534\n",
      "Epoch 26/50\n",
      "96/96 [==============================] - 4s 46ms/step - loss: 0.4465 - accuracy: 0.8480 - val_loss: 0.4507 - val_accuracy: 0.8473\n",
      "Epoch 27/50\n",
      "96/96 [==============================] - 4s 47ms/step - loss: 0.4605 - accuracy: 0.8513 - val_loss: 0.4531 - val_accuracy: 0.8511\n",
      "Epoch 28/50\n",
      "96/96 [==============================] - 4s 45ms/step - loss: 0.4307 - accuracy: 0.8545 - val_loss: 0.4479 - val_accuracy: 0.8496\n",
      "Epoch 29/50\n",
      "96/96 [==============================] - 4s 45ms/step - loss: 0.4127 - accuracy: 0.8632 - val_loss: 0.4295 - val_accuracy: 0.8649\n",
      "Epoch 30/50\n",
      "96/96 [==============================] - 4s 47ms/step - loss: 0.4145 - accuracy: 0.8580 - val_loss: 0.4505 - val_accuracy: 0.8573\n",
      "Epoch 31/50\n",
      "96/96 [==============================] - 4s 47ms/step - loss: 0.3951 - accuracy: 0.8637 - val_loss: 0.4459 - val_accuracy: 0.8595\n",
      "Epoch 32/50\n",
      "96/96 [==============================] - 4s 44ms/step - loss: 0.3871 - accuracy: 0.8660 - val_loss: 0.4132 - val_accuracy: 0.8725\n",
      "Epoch 33/50\n",
      "96/96 [==============================] - 4s 46ms/step - loss: 0.3766 - accuracy: 0.8730 - val_loss: 0.4075 - val_accuracy: 0.8756\n",
      "Epoch 34/50\n",
      "96/96 [==============================] - 4s 47ms/step - loss: 0.3698 - accuracy: 0.8721 - val_loss: 0.4283 - val_accuracy: 0.8626\n",
      "Epoch 35/50\n",
      "96/96 [==============================] - 4s 46ms/step - loss: 0.3677 - accuracy: 0.8779 - val_loss: 0.4288 - val_accuracy: 0.8565\n",
      "Epoch 36/50\n",
      "96/96 [==============================] - 4s 43ms/step - loss: 0.3495 - accuracy: 0.8832 - val_loss: 0.3960 - val_accuracy: 0.8702\n",
      "Epoch 37/50\n",
      "96/96 [==============================] - 4s 46ms/step - loss: 0.3592 - accuracy: 0.8773 - val_loss: 0.4261 - val_accuracy: 0.8733\n",
      "Epoch 38/50\n",
      "96/96 [==============================] - 4s 46ms/step - loss: 0.3425 - accuracy: 0.8848 - val_loss: 0.3994 - val_accuracy: 0.8695\n",
      "Epoch 39/50\n",
      "96/96 [==============================] - 4s 45ms/step - loss: 0.3308 - accuracy: 0.8899 - val_loss: 0.4368 - val_accuracy: 0.8603\n",
      "Epoch 40/50\n",
      "96/96 [==============================] - 4s 45ms/step - loss: 0.3263 - accuracy: 0.8868 - val_loss: 0.4003 - val_accuracy: 0.8748\n",
      "Epoch 41/50\n",
      "96/96 [==============================] - 4s 45ms/step - loss: 0.3238 - accuracy: 0.8923 - val_loss: 0.4013 - val_accuracy: 0.8695\n"
     ]
    }
   ],
   "source": [
    "# Train the model for 50 epochs with batch size of 128\n",
    "results = model.fit(X_train, y_train,\n",
    "                    batch_size=64,\n",
    "                    epochs=50,\n",
    "                    callbacks=[callback],\n",
    "                    validation_data=(X_val, y_val))"
   ]
  },
  {
   "cell_type": "code",
   "execution_count": 13,
   "id": "729f30eb",
   "metadata": {},
   "outputs": [
    {
     "data": {
      "image/png": "[encoded data removed]",
      "text/plain": [
       "<Figure size 432x288 with 1 Axes>"
      ]
     },
     "metadata": {
      "needs_background": "light"
     },
     "output_type": "display_data"
    }
   ],
   "source": [
    "# Plot the the training accuracy\n",
    "plt.plot(results.history[\"accuracy\"], label=\"accuracy\")\n",
    "\n",
    "# Plot the the validation accuracy\n",
    "plt.plot(results.history[\"val_accuracy\"], label=\"val_accuracy\")\n",
    "\n",
    "# Name the x and y axises\n",
    "plt.xlabel(\"Epoch\")\n",
    "plt.ylabel(\"Accuracy\")\n",
    "# Put legend table\n",
    "plt.legend()\n",
    "\n",
    "# Show the plot\n",
    "plt.show()"
   ]
  },
  {
   "cell_type": "code",
   "execution_count": 14,
   "id": "20bcabe8",
   "metadata": {},
   "outputs": [
    {
     "data": {
      "image/png": "[encoded data removed]",
      "text/plain": [
       "<Figure size 432x288 with 1 Axes>"
      ]
     },
     "metadata": {
      "needs_background": "light"
     },
     "output_type": "display_data"
    }
   ],
   "source": [
    "# Plot the the training loss\n",
    "plt.plot(results.history[\"loss\"], label=\"loss\")\n",
    "\n",
    "# Plot the the validation loss\n",
    "plt.plot(results.history[\"val_loss\"], label=\"val_loss\")\n",
    "\n",
    "# Name the x and y axises\n",
    "plt.xlabel(\"Epoch\")\n",
    "plt.ylabel(\"Loss\")\n",
    "# Put legend table\n",
    "plt.legend()\n",
    "\n",
    "# Show the plot\n",
    "plt.show()"
   ]
  },
  {
   "cell_type": "code",
   "execution_count": 15,
   "id": "f1f05c8a",
   "metadata": {},
   "outputs": [
    {
     "name": "stdout",
     "output_type": "stream",
     "text": [
      "41/41 [==============================] - 0s 6ms/step - loss: 0.3195 - accuracy: 0.8977\n"
     ]
    },
    {
     "data": {
      "text/plain": [
       "[0.3194507658481598, 0.8977099061012268]"
      ]
     },
     "execution_count": 15,
     "metadata": {},
     "output_type": "execute_result"
    }
   ],
   "source": [
    "# Evaluate the performance\n",
    "model.evaluate(X_test, y_test)"
   ]
  },
  {
   "cell_type": "code",
   "execution_count": 16,
   "id": "b7f91f1d",
   "metadata": {},
   "outputs": [
    {
     "name": "stdout",
     "output_type": "stream",
     "text": [
      "1/1 [==============================] - 0s 113ms/step\n"
     ]
    },
    {
     "data": {
      "text/plain": [
       "array([[3.0062281e-05, 2.3208594e-08, 8.1082351e-07, 3.6254872e-07,\n",
       "        1.9133557e-08, 9.9995589e-01, 1.2178398e-11, 5.9397996e-07,\n",
       "        2.5175279e-06, 9.7898564e-06]], dtype=float32)"
      ]
     },
     "execution_count": 16,
     "metadata": {},
     "output_type": "execute_result"
    }
   ],
   "source": [
    "# Make prediction on the reshaped sample\n",
    "prediction_result = model.predict(X_test[10].reshape(1,32,32))\n",
    "\n",
    "# Print the prediction result\n",
    "prediction_result"
   ]
  },
  {
   "cell_type": "code",
   "execution_count": 17,
   "id": "06d22948",
   "metadata": {},
   "outputs": [],
   "source": [
    "# Find the predicted class\n",
    "predicted_class = prediction_result.argmax()\n",
    "# Find the prediction probability\n",
    "predicted_probabilty = prediction_result.max()"
   ]
  },
  {
   "cell_type": "code",
   "execution_count": 18,
   "id": "b54168a5",
   "metadata": {},
   "outputs": [
    {
     "name": "stdout",
     "output_type": "stream",
     "text": [
      "This image belongs to class 5 with 0.9999558925628662 %\n"
     ]
    }
   ],
   "source": [
    "# Print the results\n",
    "print(f\"This image belongs to class {predicted_class} with {predicted_probabilty} %\")"
   ]
  }
 ],
 "metadata": {
  "kernelspec": {
   "display_name": "Python 3 (ipykernel)",
   "language": "python",
   "name": "python3"
  },
  "language_info": {
   "codemirror_mode": {
    "name": "ipython",
    "version": 3
   },
   "file_extension": ".py",
   "mimetype": "text/x-python",
   "name": "python",
   "nbconvert_exporter": "python",
   "pygments_lexer": "ipython3",
   "version": "3.9.12"
  }
 },
 "nbformat": 4,
 "nbformat_minor": 5
}
