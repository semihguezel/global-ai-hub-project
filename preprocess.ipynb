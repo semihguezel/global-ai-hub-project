{
 "cells": [
  {
   "cell_type": "code",
   "execution_count": 1,
   "id": "a685e16d",
   "metadata": {},
   "outputs": [],
   "source": [
    "import numpy as np\n",
    "import seaborn as sns\n",
    "import pandas as pd\n",
    "import cv2\n",
    "import glob\n",
    "from sklearn.model_selection import train_test_split\n",
    "import matplotlib.pyplot as plt"
   ]
  },
  {
   "cell_type": "markdown",
   "id": "fc5f07a5",
   "metadata": {},
   "source": [
    "# Load Metadata"
   ]
  },
  {
   "cell_type": "code",
   "execution_count": 2,
   "id": "ed5229d5",
   "metadata": {},
   "outputs": [],
   "source": [
    "path = \"C:/Users/pasha/Downloads/UrbanSound8K/metadata/UrbanSound8K.csv\"\n",
    "urbansound8k = pd.read_csv(path)"
   ]
  },
  {
   "cell_type": "code",
   "execution_count": 3,
   "id": "56fdeb39",
   "metadata": {},
   "outputs": [
    {
     "data": {
      "text/html": [
       "<div>\n",
       "<style scoped>\n",
       "    .dataframe tbody tr th:only-of-type {\n",
       "        vertical-align: middle;\n",
       "    }\n",
       "\n",
       "    .dataframe tbody tr th {\n",
       "        vertical-align: top;\n",
       "    }\n",
       "\n",
       "    .dataframe thead th {\n",
       "        text-align: right;\n",
       "    }\n",
       "</style>\n",
       "<table border=\"1\" class=\"dataframe\">\n",
       "  <thead>\n",
       "    <tr style=\"text-align: right;\">\n",
       "      <th></th>\n",
       "      <th>slice_file_name</th>\n",
       "      <th>fsID</th>\n",
       "      <th>start</th>\n",
       "      <th>end</th>\n",
       "      <th>salience</th>\n",
       "      <th>fold</th>\n",
       "      <th>classID</th>\n",
       "      <th>class</th>\n",
       "    </tr>\n",
       "  </thead>\n",
       "  <tbody>\n",
       "    <tr>\n",
       "      <th>0</th>\n",
       "      <td>100032-3-0-0.wav</td>\n",
       "      <td>100032</td>\n",
       "      <td>0.000000</td>\n",
       "      <td>0.317551</td>\n",
       "      <td>1</td>\n",
       "      <td>5</td>\n",
       "      <td>3</td>\n",
       "      <td>dog_bark</td>\n",
       "    </tr>\n",
       "    <tr>\n",
       "      <th>1</th>\n",
       "      <td>100263-2-0-117.wav</td>\n",
       "      <td>100263</td>\n",
       "      <td>58.500000</td>\n",
       "      <td>62.500000</td>\n",
       "      <td>1</td>\n",
       "      <td>5</td>\n",
       "      <td>2</td>\n",
       "      <td>children_playing</td>\n",
       "    </tr>\n",
       "    <tr>\n",
       "      <th>2</th>\n",
       "      <td>100263-2-0-121.wav</td>\n",
       "      <td>100263</td>\n",
       "      <td>60.500000</td>\n",
       "      <td>64.500000</td>\n",
       "      <td>1</td>\n",
       "      <td>5</td>\n",
       "      <td>2</td>\n",
       "      <td>children_playing</td>\n",
       "    </tr>\n",
       "    <tr>\n",
       "      <th>3</th>\n",
       "      <td>100263-2-0-126.wav</td>\n",
       "      <td>100263</td>\n",
       "      <td>63.000000</td>\n",
       "      <td>67.000000</td>\n",
       "      <td>1</td>\n",
       "      <td>5</td>\n",
       "      <td>2</td>\n",
       "      <td>children_playing</td>\n",
       "    </tr>\n",
       "    <tr>\n",
       "      <th>4</th>\n",
       "      <td>100263-2-0-137.wav</td>\n",
       "      <td>100263</td>\n",
       "      <td>68.500000</td>\n",
       "      <td>72.500000</td>\n",
       "      <td>1</td>\n",
       "      <td>5</td>\n",
       "      <td>2</td>\n",
       "      <td>children_playing</td>\n",
       "    </tr>\n",
       "    <tr>\n",
       "      <th>5</th>\n",
       "      <td>100263-2-0-143.wav</td>\n",
       "      <td>100263</td>\n",
       "      <td>71.500000</td>\n",
       "      <td>75.500000</td>\n",
       "      <td>1</td>\n",
       "      <td>5</td>\n",
       "      <td>2</td>\n",
       "      <td>children_playing</td>\n",
       "    </tr>\n",
       "    <tr>\n",
       "      <th>6</th>\n",
       "      <td>100263-2-0-161.wav</td>\n",
       "      <td>100263</td>\n",
       "      <td>80.500000</td>\n",
       "      <td>84.500000</td>\n",
       "      <td>1</td>\n",
       "      <td>5</td>\n",
       "      <td>2</td>\n",
       "      <td>children_playing</td>\n",
       "    </tr>\n",
       "    <tr>\n",
       "      <th>7</th>\n",
       "      <td>100263-2-0-3.wav</td>\n",
       "      <td>100263</td>\n",
       "      <td>1.500000</td>\n",
       "      <td>5.500000</td>\n",
       "      <td>1</td>\n",
       "      <td>5</td>\n",
       "      <td>2</td>\n",
       "      <td>children_playing</td>\n",
       "    </tr>\n",
       "    <tr>\n",
       "      <th>8</th>\n",
       "      <td>100263-2-0-36.wav</td>\n",
       "      <td>100263</td>\n",
       "      <td>18.000000</td>\n",
       "      <td>22.000000</td>\n",
       "      <td>1</td>\n",
       "      <td>5</td>\n",
       "      <td>2</td>\n",
       "      <td>children_playing</td>\n",
       "    </tr>\n",
       "    <tr>\n",
       "      <th>9</th>\n",
       "      <td>100648-1-0-0.wav</td>\n",
       "      <td>100648</td>\n",
       "      <td>4.823402</td>\n",
       "      <td>5.471927</td>\n",
       "      <td>2</td>\n",
       "      <td>10</td>\n",
       "      <td>1</td>\n",
       "      <td>car_horn</td>\n",
       "    </tr>\n",
       "  </tbody>\n",
       "</table>\n",
       "</div>"
      ],
      "text/plain": [
       "      slice_file_name    fsID      start        end  salience  fold  classID  \\\n",
       "0    100032-3-0-0.wav  100032   0.000000   0.317551         1     5        3   \n",
       "1  100263-2-0-117.wav  100263  58.500000  62.500000         1     5        2   \n",
       "2  100263-2-0-121.wav  100263  60.500000  64.500000         1     5        2   \n",
       "3  100263-2-0-126.wav  100263  63.000000  67.000000         1     5        2   \n",
       "4  100263-2-0-137.wav  100263  68.500000  72.500000         1     5        2   \n",
       "5  100263-2-0-143.wav  100263  71.500000  75.500000         1     5        2   \n",
       "6  100263-2-0-161.wav  100263  80.500000  84.500000         1     5        2   \n",
       "7    100263-2-0-3.wav  100263   1.500000   5.500000         1     5        2   \n",
       "8   100263-2-0-36.wav  100263  18.000000  22.000000         1     5        2   \n",
       "9    100648-1-0-0.wav  100648   4.823402   5.471927         2    10        1   \n",
       "\n",
       "              class  \n",
       "0          dog_bark  \n",
       "1  children_playing  \n",
       "2  children_playing  \n",
       "3  children_playing  \n",
       "4  children_playing  \n",
       "5  children_playing  \n",
       "6  children_playing  \n",
       "7  children_playing  \n",
       "8  children_playing  \n",
       "9          car_horn  "
      ]
     },
     "execution_count": 3,
     "metadata": {},
     "output_type": "execute_result"
    }
   ],
   "source": [
    "urbansound8k.head(10)"
   ]
  },
  {
   "cell_type": "markdown",
   "id": "e99e845a",
   "metadata": {},
   "source": [
    "# Explore Data"
   ]
  },
  {
   "cell_type": "code",
   "execution_count": 4,
   "id": "06a80d5a",
   "metadata": {},
   "outputs": [
    {
     "name": "stdout",
     "output_type": "stream",
     "text": [
      "dog_bark            1000\n",
      "children_playing    1000\n",
      "air_conditioner     1000\n",
      "street_music        1000\n",
      "engine_idling       1000\n",
      "jackhammer          1000\n",
      "drilling            1000\n",
      "siren                929\n",
      "car_horn             429\n",
      "gun_shot             374\n",
      "Name: class, dtype: int64\n"
     ]
    },
    {
     "data": {
      "image/png": "[encoded data removed]",
      "text/plain": [
       "<Figure size 1440x1440 with 1 Axes>"
      ]
     },
     "metadata": {
      "needs_background": "light"
     },
     "output_type": "display_data"
    }
   ],
   "source": [
    "plt.figure(figsize=(20,20))\n",
    "sns.countplot(y=\"class\",data=urbansound8k)\n",
    "print(urbansound8k[\"class\"].value_counts())"
   ]
  },
  {
   "cell_type": "markdown",
   "id": "cabe0527",
   "metadata": {},
   "source": [
    "# Preprocessing\n",
    "For preprocessing part we are asked to complete few tasks.<br> \n",
    "Those are;\n",
    "- Reading images from folder\n",
    "- Changing images' color space from rgb to grayscale\n",
    "- Resizing images\n",
    "- Normalizing images\n",
    "\n",
    "### How did we completed those tasks?\n",
    "In first part we read images by using this __\"cv2.imread(file)\"__ command. After that, we use this as an input for other opencv function which used for changing images' color space __\"cv2.cvtColor(cv2.imread(file), cv2.COLOR_BGR2GRAY)\"__. We applied final opencv function for resizing image __\"cv2.resize(cv2.cvtColor(cv2.imread(file), cv2.COLOR_BGR2GRAY), (32, 32))\"__. That way we reduce the computation power of our model and reduce the complexity. Finally, we divide our images to 255 for normalizing them. Thats beacuse grayscale images takes pixel values between 0-255 (0 is black, 255 is white other values represented in tones of grays).<br>\n",
    "#### We explained steps for operations applied on images. But how did we accessed them?\n",
    "We used glob library for this __\"for file in glob.glob('C:/Users/pasha/Downloads/spectrograms/{}/*.png'.format(i))\"__. But what are the {} and .format(i) and whate are they being used for ? As you can see at the and of the line we have a for loop which iterates 10 times __\"for i in range(10)\"__. We set range 10 because we have 10 categorical features and 10 folders which they separeted by their categories. Each iteration we get index values starting from 0 and ends at 9. Since, our folders also named by same way,  we can access them by using this \"__.../{}/'.format(i) for i in range(10)\"__.<br>\n",
    "#### How did we save the processed images?\n",
    "We saved them into a list called images. In images is a 2d list which contains 10 categorical features. Also, for each category it contains preprocessed images and their categorical value. So in images list we can access the first image by following command __\"images[0][1]\"__. For acessing the categorical value of the first image of the first category by following command __\"images[0][0]\"__. "
   ]
  },
  {
   "cell_type": "code",
   "execution_count": 5,
   "id": "4d6dea20",
   "metadata": {},
   "outputs": [],
   "source": [
    "images = []\n",
    "for i in range(10):\n",
    "    for file in glob.glob('C:/Users/pasha/Downloads/spectrograms/{}/*.png'.format(i)):\n",
    "        images.append([cv2.resize(cv2.cvtColor(cv2.imread(file), cv2.COLOR_BGR2GRAY), (32, 32))/255, i])\n",
    "    "
   ]
  },
  {
   "cell_type": "code",
   "execution_count": 6,
   "id": "22ee015f",
   "metadata": {},
   "outputs": [
    {
     "name": "stdout",
     "output_type": "stream",
     "text": [
      "First image of the array\n"
     ]
    },
    {
     "data": {
      "image/png": "[encoded data removed]",
      "text/plain": [
       "<Figure size 432x288 with 1 Axes>"
      ]
     },
     "metadata": {
      "needs_background": "light"
     },
     "output_type": "display_data"
    }
   ],
   "source": [
    "print(\"First image of the array\")\n",
    "plt.imshow(images[0][0])\n",
    "plt.show()"
   ]
  },
  {
   "cell_type": "markdown",
   "id": "c55fe26d",
   "metadata": {},
   "source": [
    "# Shuffling\n",
    "Before split our data set into train validation test, first we need to shuffle it. Because shuffling help us to overcome trap in local minima problem. It is a good approach to deal with nonconvex datasets. Also in a dataset where features sorted based on their categories model tends to learn similiar things and results with overfitting problem."
   ]
  },
  {
   "cell_type": "code",
   "execution_count": 7,
   "id": "66965868",
   "metadata": {},
   "outputs": [],
   "source": [
    "import random\n",
    "# We shuffle our data before splitting it because our data is sorted base on their categories.\n",
    "random.shuffle(images)"
   ]
  },
  {
   "cell_type": "code",
   "execution_count": 8,
   "id": "2881577b",
   "metadata": {},
   "outputs": [],
   "source": [
    "# Split dataset into features and labels\n",
    "X = np.array([images[i][0] for i in range(len(images))])\n",
    "y = np.array([images[i][1] for i in range(len(images))])"
   ]
  },
  {
   "cell_type": "code",
   "execution_count": 9,
   "id": "1e7318ba",
   "metadata": {},
   "outputs": [
    {
     "name": "stdout",
     "output_type": "stream",
     "text": [
      "First image of the shuffled array\n"
     ]
    },
    {
     "data": {
      "image/png": "[encoded data removed]",
      "text/plain": [
       "<Figure size 432x288 with 1 Axes>"
      ]
     },
     "metadata": {
      "needs_background": "light"
     },
     "output_type": "display_data"
    }
   ],
   "source": [
    "print(\"First image of the shuffled array\")\n",
    "plt.imshow(X[0])\n",
    "plt.show()"
   ]
  },
  {
   "cell_type": "code",
   "execution_count": 10,
   "id": "8222e399",
   "metadata": {},
   "outputs": [
    {
     "name": "stdout",
     "output_type": "stream",
     "text": [
      "Class of the first image in shuffled array: 0\n"
     ]
    }
   ],
   "source": [
    "print(f\"Class of the first image in shuffled array: {y[0]}\")"
   ]
  },
  {
   "cell_type": "code",
   "execution_count": 11,
   "id": "88a99edd",
   "metadata": {},
   "outputs": [],
   "source": [
    "# Splitting 70% train 15% validation 15% test\n",
    "X_train, X_temp, y_train, y_temp = train_test_split(X, y, test_size=0.30, random_state=123)\n",
    "X_val, X_test, y_val, y_test = train_test_split(X_temp, y_temp, test_size=0.5, random_state=123)"
   ]
  },
  {
   "cell_type": "code",
   "execution_count": 12,
   "id": "0e576bd4",
   "metadata": {},
   "outputs": [],
   "source": [
    "# Saving train, validation, test sets into local file.\n",
    "np.save(\"C:/Users/pasha/X_train.npy\", X_train)\n",
    "np.save(\"C:/Users/pasha/y_train.npy\", y_train)\n",
    "np.save(\"C:/Users/pasha/X_val.npy\", X_val)\n",
    "np.save(\"C:/Users/pasha/y_val.npy\", y_val)\n",
    "np.save(\"C:/Users/pasha/X_test.npy\", X_test)\n",
    "np.save(\"C:/Users/pasha/y_test.npy\", y_test)"
   ]
  }
 ],
 "metadata": {
  "kernelspec": {
   "display_name": "Python 3 (ipykernel)",
   "language": "python",
   "name": "python3"
  },
  "language_info": {
   "codemirror_mode": {
    "name": "ipython",
    "version": 3
   },
   "file_extension": ".py",
   "mimetype": "text/x-python",
   "name": "python",
   "nbconvert_exporter": "python",
   "pygments_lexer": "ipython3",
   "version": "3.9.12"
  }
 },
 "nbformat": 4,
 "nbformat_minor": 5
}
